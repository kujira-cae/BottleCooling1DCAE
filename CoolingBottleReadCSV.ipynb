{
 "cells": [
  {
   "cell_type": "code",
   "execution_count": 3,
   "id": "218c12ff-2c55-4839-b59f-7e44a98b55c2",
   "metadata": {},
   "outputs": [
    {
     "data": {
      "text/html": [
       "        <script type=\"text/javascript\">\n",
       "        window.PlotlyConfig = {MathJaxConfig: 'local'};\n",
       "        if (window.MathJax) {MathJax.Hub.Config({SVG: {font: \"STIX-Web\"}});}\n",
       "        if (typeof require !== 'undefined') {\n",
       "        require.undef(\"plotly\");\n",
       "        requirejs.config({\n",
       "            paths: {\n",
       "                'plotly': ['https://cdn.plot.ly/plotly-2.2.0.min']\n",
       "            }\n",
       "        });\n",
       "        require(['plotly'], function(Plotly) {\n",
       "            window._Plotly = Plotly;\n",
       "        });\n",
       "        }\n",
       "        </script>\n",
       "        "
      ]
     },
     "metadata": {},
     "output_type": "display_data"
    }
   ],
   "source": [
    "from scipy.integrate import solve_ivp\n",
    "from plotly import tools\n",
    "from plotly.offline import init_notebook_mode, plot, iplot\n",
    "from tqdm.notebook import tqdm\n",
    "import numpy as np\n",
    "import math\n",
    "import pandas as pd\n",
    "import OMPython\n",
    "import os\n",
    "init_notebook_mode(connected=True)"
   ]
  },
  {
   "cell_type": "code",
   "execution_count": 4,
   "id": "141e8c91-4843-48f3-a55e-99dbdadca663",
   "metadata": {},
   "outputs": [
    {
     "name": "stdout",
     "output_type": "stream",
     "text": [
      "Notification: Automatically loaded package Modelica 4.0.0 due to uses annotation.\n",
      "Notification: Automatically loaded package Complex 4.0.0 due to uses annotation.\n",
      "Notification: Automatically loaded package ModelicaServices 4.0.0 due to uses annotation.\n",
      "\n"
     ]
    }
   ],
   "source": [
    "# OpenModelicaファイルのPATHの指定\n",
    "model_name = \"CoolingBottle.mo\"\n",
    "model_path = os.path.join(os.getcwd(), model_name).replace(os.path.sep, '/')\n",
    "\n",
    "# OpenModelicaモデル読み込み\n",
    "model = OMPython.ModelicaSystem(\n",
    "    model_path,\n",
    "    os.path.splitext(model_name)[0],\n",
    "    [\"Modelica\"]\n",
    ")\n",
    "\n",
    "output_labels = [\n",
    "    \"time\",\n",
    "    \"T_milk\",\n",
    "    \"T_bottle\",\n",
    "]"
   ]
  },
  {
   "cell_type": "code",
   "execution_count": 6,
   "id": "01cb82ed-f44d-4f34-ad7c-2bd0b1f3d0b4",
   "metadata": {},
   "outputs": [
    {
     "name": "stdout",
     "output_type": "stream",
     "text": [
      "           初期ミルク温度 [K]  初期ボトル温度 [K]  冷却水温度 [K]  熱伝達係数*面積 [W/K]  \\\n",
      "条件名                                                              \n",
      "ガラス哺乳瓶          363.15       363.15     288.15            67.4   \n",
      "プラスチック哺乳瓶       363.15       363.15     288.15            17.9   \n",
      "\n",
      "           ボトル熱コンダクタンス [W/K]  ミルク熱容量 [J/K]  ボトル熱容量 [J/K]  \n",
      "条件名                                                       \n",
      "ガラス哺乳瓶                 12.40           336          75.4  \n",
      "プラスチック哺乳瓶               3.28           336          75.4  \n"
     ]
    }
   ],
   "source": [
    "# パラメータリストが記載されたcsvの読み込み\n",
    "df_params = pd.read_csv(\"CoolingBottleParameters.csv\", index_col=0)\n",
    "print(df_params)"
   ]
  },
  {
   "cell_type": "code",
   "execution_count": 17,
   "id": "ed08feef-bd40-4f9f-887e-f4326555cd05",
   "metadata": {},
   "outputs": [],
   "source": [
    "# 条件数を取得\n",
    "rows_num = len(df_params)\n",
    "\n",
    "# 初期値リスト\n",
    "t0_milk_list = [df_params.iloc[i,0] for i in range(rows_num)]\n",
    "t0_bottle_list = [df_params.iloc[i,1] for i in range(rows_num)]\n",
    "t_water_list = [df_params.iloc[i,2] for i in range(rows_num)]\n",
    "\n",
    "# モデルパラメータリスト\n",
    "h_interface_list = [df_params.iloc[i,3] for i in range(rows_num)]\n",
    "g_bottle_list = [df_params.iloc[i,4] for i in range(rows_num)]\n",
    "hc_milk_list = [df_params.iloc[i,5] for i in range(rows_num)]\n",
    "hc_bottle_list = [df_params.iloc[i,6] for i in range(rows_num)]"
   ]
  },
  {
   "cell_type": "code",
   "execution_count": 20,
   "id": "54e3b522-c2ed-4063-b09d-55604122797d",
   "metadata": {},
   "outputs": [
    {
     "data": {
      "image/png": "[encoded data removed]",
      "text/plain": [
       "<Figure size 432x288 with 1 Axes>"
      ]
     },
     "metadata": {
      "needs_background": "light"
     },
     "output_type": "display_data"
    },
    {
     "data": {
      "image/png": "[encoded data removed]",
      "text/plain": [
       "<Figure size 432x288 with 1 Axes>"
      ]
     },
     "metadata": {
      "needs_background": "light"
     },
     "output_type": "display_data"
    }
   ],
   "source": [
    "# 計算時間の設定\n",
    "time_start = 0.0 # [s]\n",
    "time_stop = 10.0 * 60 # [s]\n",
    "\n",
    "# 計算時の時間刻み\n",
    "dt = 1.0 # [s]\n",
    "step_size = dt\n",
    "model.setSimulationOptions([\n",
    "    f\"startTime={time_start}\",\n",
    "    f\"stopTime={time_stop}\",\n",
    "    f\"stepSize={step_size}\"\n",
    "])\n",
    "\n",
    "for i in range(rows_num):\n",
    "    # 初期値をリストから取得\n",
    "    t0_milk = t0_milk_list[i]\n",
    "    t0_bottle = t0_bottle_list[i]\n",
    "    t_water = t_water_list[i]\n",
    "    \n",
    "    # モデルパラメータをリストから取得\n",
    "    h_interface = h_interface_list[i]\n",
    "    g_bottle = g_bottle_list[i]\n",
    "    hc_milk = hc_milk_list[i]\n",
    "    hc_bottle = hc_bottle_list[i]\n",
    "\n",
    "    # モデルパラメータ変更\n",
    "    model.setParameters([\n",
    "        f\"T0Milk={t0_milk}\",\n",
    "        f\"T0Bottle={t0_bottle}\",\n",
    "        f\"TWater={t_water}\",\n",
    "        f\"HInterface={h_interface}\",\n",
    "        f\"GBottle={g_bottle}\",\n",
    "        f\"HCMilk={hc_milk}\",\n",
    "        f\"HCBottle={hc_bottle}\",\n",
    "    ])\n",
    "\n",
    "    # Simlation実行\n",
    "    model.simulate()\n",
    "    \n",
    "    # 結果取得\n",
    "    res_array = model.getSolutions(output_labels)\n",
    "\n",
    "    df_res = pd.DataFrame(res_array.T, columns=output_labels)\n",
    "\n",
    "    # indexをtimeに設定\n",
    "    df_res.set_index(\"time\", inplace=True)\n",
    "\n",
    "    # Kを℃に変換\n",
    "    df_res = df_res - 273.15 \n",
    "    \n",
    "    df_res = df_res.add_prefix(f\"case{i}_\")\n",
    "\n",
    "    df_res.plot()\n",
    "\n"
   ]
  }
 ],
 "metadata": {
  "kernelspec": {
   "display_name": "Python 3.9.6 64-bit",
   "language": "python",
   "name": "python396jvsc74a57bd0c243f7b75c84068bad2032d1ac28d3ba6aa643a8b781fb798fb7b02f3c3f5aac"
  },
  "language_info": {
   "codemirror_mode": {
    "name": "ipython",
    "version": 3
   },
   "file_extension": ".py",
   "mimetype": "text/x-python",
   "name": "python",
   "nbconvert_exporter": "python",
   "pygments_lexer": "ipython3",
   "version": "3.9.6"
  },
  "metadata": {
   "interpreter": {
    "hash": "c243f7b75c84068bad2032d1ac28d3ba6aa643a8b781fb798fb7b02f3c3f5aac"
   }
  }
 },
 "nbformat": 4,
 "nbformat_minor": 5
}
