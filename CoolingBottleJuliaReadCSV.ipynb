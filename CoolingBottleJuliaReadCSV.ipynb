{
 "cells": [
  {
   "cell_type": "code",
   "execution_count": 1,
   "source": [
    "using OMJulia, Plots, CSV, DataFrames"
   ],
   "outputs": [],
   "metadata": {}
  },
  {
   "cell_type": "code",
   "execution_count": 2,
   "source": [
    "# OpenModelicaファイルのPATHの指定\r\n",
    "model_name = \"C:/work/test/BottleCooling1DCAE/CoolingBottle.mo\"\r\n",
    "CoolingBottle = OMJulia.OMCSession() \r\n",
    "CoolingBottle.ModelicaSystem(model_name,\"CoolingBottle\")\r\n"
   ],
   "outputs": [],
   "metadata": {}
  },
  {
   "cell_type": "code",
   "execution_count": 6,
   "source": [
    "# CSVファイルをDataFrameとして読み込む\r\n",
    "params = CSV.read(\"CoolingBottleParameters.csv\", DataFrame)"
   ],
   "outputs": [
    {
     "output_type": "execute_result",
     "data": {
      "text/html": [
       "<table class=\"data-frame\"><thead><tr><th></th><th>条件名</th><th>初期ミルク温度 [K]</th><th>初期ボトル温度 [K]</th><th>冷却水温度 [K]</th><th>熱伝達係数*面積 [W/K]</th></tr><tr><th></th><th>String</th><th>Float64</th><th>Float64</th><th>Float64</th><th>Float64</th></tr></thead><tbody><p>2 rows × 8 columns (omitted printing of 3 columns)</p><tr><th>1</th><td>ガラス哺乳瓶</td><td>363.15</td><td>363.15</td><td>288.15</td><td>67.4</td></tr><tr><th>2</th><td>プラスチック哺乳瓶</td><td>363.15</td><td>363.15</td><td>288.15</td><td>17.9</td></tr></tbody></table>"
      ],
      "text/latex": [
       "\\begin{tabular}{r|cccccc}\n",
       "\t& 条件名 & 初期ミルク温度 [K] & 初期ボトル温度 [K] & 冷却水温度 [K] & 熱伝達係数*面積 [W/K] & \\\\\n",
       "\t\\hline\n",
       "\t& String & Float64 & Float64 & Float64 & Float64 & \\\\\n",
       "\t\\hline\n",
       "\t1 & ガラス哺乳瓶 & 363.15 & 363.15 & 288.15 & 67.4 & $\\dots$ \\\\\n",
       "\t2 & プラスチック哺乳瓶 & 363.15 & 363.15 & 288.15 & 17.9 & $\\dots$ \\\\\n",
       "\\end{tabular}\n"
      ],
      "text/plain": [
       "2×8 DataFrame. Omitted printing of 5 columns\n",
       "│ Row │ 条件名             │ 初期ミルク温度 [K] │ 初期ボトル温度 [K] │\n",
       "│     │ \u001b[90mString\u001b[39m             │ \u001b[90mFloat64\u001b[39m            │ \u001b[90mFloat64\u001b[39m            │\n",
       "├─────┼────────────────────┼────────────────────┼────────────────────┤\n",
       "│ 1   │ ガラス哺乳瓶       │ 363.15             │ 363.15             │\n",
       "│ 2   │ プラスチック哺乳瓶 │ 363.15             │ 363.15             │"
      ]
     },
     "metadata": {},
     "execution_count": 6
    }
   ],
   "metadata": {}
  },
  {
   "cell_type": "code",
   "execution_count": 7,
   "source": [
    "# 条件数を取得\r\n",
    "num_rows = nrow(params)\r\n",
    "\r\n",
    "# 初期値リスト\r\n",
    "# 条件ごとのミルクの初期温度のリスト\r\n",
    "t0_milk_list = [params[i, :2] for i in 1:num_rows]\r\n",
    "# 条件ごとの哺乳瓶の初期温度のリスト\r\n",
    "t0_bottle_list = [params[i, :3] for i in 1:num_rows]\r\n",
    "# 条件ごとの冷却水温度のリスト\r\n",
    "t_water_list = [params[i, :4] for i in 1:num_rows]\r\n",
    "\r\n",
    "# モデルパラメータリスト\r\n",
    "# 条件ごとの熱伝達係数[W/m2・K]×伝熱面積[m2]の値のリスト\r\n",
    "h_interface_list = [params[i, :5] for i in 1:num_rows]\r\n",
    "# 条件ごとの哺乳瓶の熱コンダクタンス[W/K]のリスト\r\n",
    "g_bottle_list = [params[i, :6] for i in 1:num_rows]\r\n",
    "# 条件ごとのミルクの熱容量[J/K]のリスト\r\n",
    "hc_milk_list = [params[i, :7] for i in 1:num_rows]\r\n",
    "# 条件ごとの哺乳瓶の熱容量[J/K]のリスト\r\n",
    "hc_bottle_list = [params[i, :8] for i in 1:num_rows]"
   ],
   "outputs": [
    {
     "output_type": "execute_result",
     "data": {
      "text/plain": [
       "2-element Vector{Float64}:\n",
       " 75.4\n",
       " 75.4"
      ]
     },
     "metadata": {},
     "execution_count": 7
    }
   ],
   "metadata": {}
  },
  {
   "cell_type": "code",
   "execution_count": 8,
   "source": [
    "# 計算時間の設定\r\n",
    "# 開始時間\r\n",
    "time_start = 0.0 # [s]\r\n",
    "# 終了時間\r\n",
    "time_stop = 10.0 * 60 # [s]\r\n",
    "\r\n",
    "# 計算時の時間刻み\r\n",
    "dt = 1.0 # [s]\r\n",
    "step_size = dt\r\n",
    "\r\n",
    "# 開始時間、終了時間、時間刻みの設定\r\n",
    "CoolingBottle.setSimulationOptions([\r\n",
    "    \"startTime=$time_start\",\r\n",
    "    \"stopTime=$time_stop\",\r\n",
    "    \"stepSize=$step_size\"\r\n",
    "])\r\n"
   ],
   "outputs": [],
   "metadata": {}
  },
  {
   "cell_type": "code",
   "execution_count": 9,
   "source": [
    "# 結果取得対象のパラメータリストを定義\r\n",
    "output_labels = [\r\n",
    "    \"time\",\r\n",
    "    \"T_milk\",\r\n",
    "    \"T_bottle\",\r\n",
    "]\r\n",
    "\r\n",
    "# 空のDataFrameを作成\r\n",
    "df = DataFrame()\r\n",
    "\r\n",
    "for i in 1:num_rows\r\n",
    "    # 初期値をリストから取得\r\n",
    "    # ミルクの初期温度を代入\r\n",
    "    t0_milk = t0_milk_list[i]\r\n",
    "    # 哺乳瓶の初期温度を代入\r\n",
    "    t0_bottle = t0_bottle_list[i]\r\n",
    "    # 冷却水温度を代入\r\n",
    "    t_water = t_water_list[i]\r\n",
    "    \r\n",
    "    # モデルパラメータをリストから取得\r\n",
    "    # 熱伝達係数[W/m2・K]×伝熱面積[m2]の値を代入\r\n",
    "    h_interface = h_interface_list[i]\r\n",
    "    # 哺乳瓶の熱コンダクタンス[W/K]を代入\r\n",
    "    g_bottle = g_bottle_list[i]\r\n",
    "    # ミルクの熱容量[J/K]を代入\r\n",
    "    hc_milk = hc_milk_list[i]\r\n",
    "    # 哺乳瓶の熱容量[J/K]を代入\r\n",
    "    hc_bottle = hc_bottle_list[i]\r\n",
    "\r\n",
    "    # Modelicaの入力パラメータに定義した変数を代入\r\n",
    "    CoolingBottle.setParameters([\r\n",
    "        \"T0Milk=$t0_milk\",\r\n",
    "        \"T0Bottle=$t0_bottle\",\r\n",
    "        \"TWater=$t_water\",\r\n",
    "        \"HInterface=$h_interface\",\r\n",
    "        \"GBottle=$g_bottle\",\r\n",
    "        \"HCMilk=$hc_milk\",\r\n",
    "        \"HCBottle=$hc_bottle\",\r\n",
    "    ])\r\n",
    "    \r\n",
    "    # ModelicaファイルのSimulation実行\r\n",
    "    CoolingBottle.simulate()\r\n",
    "    \r\n",
    "    # 結果取得\r\n",
    "    time,t_milk,t_bottle = CoolingBottle.getSolutions(output_labels)\r\n",
    "    # 要素数を取得\r\n",
    "    rows = size(time)[1]\r\n",
    "    # 温度単位[K]を[℃に]変換する処理\r\n",
    "    conversion_list = [-273.15 for t in 1:rows]\r\n",
    "    t_milk_c = t_milk + conversion_list\r\n",
    "    t_bottle_c = t_bottle + conversion_list\r\n",
    "\r\n",
    "    # 1条件目の結果をDataFrameに格納\r\n",
    "    if i < 2\r\n",
    "        df.Time = time\r\n",
    "        df[:,2] = t_milk_c\r\n",
    "        df[:,3] = t_bottle_c\r\n",
    "\r\n",
    "    # 2条件目の結果をDataFrameに格納\r\n",
    "    # @TODO 3条件目以降の条件があるときに汎用性を持たせるようにしたい\r\n",
    "    else\r\n",
    "        df[:,4] = t_milk_c\r\n",
    "        df[:,5] = t_bottle_c\r\n",
    "    end\r\n",
    "\r\n",
    "end\r\n",
    "# グラフ描画\r\n",
    "plot(df.Time, [df[:,2], df[:,3], df[:4], df[:5]], label=[\"glass_milk\" \"glass_bottle\" \"plastic_milk\" \"plastic_bottle\"])\r\n",
    "xlabel!(\"Time [s]\")\r\n",
    "ylabel!(\"Temperature [℃]\")\r\n",
    "title!(\"CoolingBottle\")\r\n",
    "# グラフ画像をpng形式保存\r\n",
    "savefig(\"CoolingBottleJulia.png\")"
   ],
   "outputs": [],
   "metadata": {}
  }
 ],
 "metadata": {
  "kernelspec": {
   "display_name": "Julia 1.6.1",
   "language": "julia",
   "name": "julia-1.6"
  },
  "language_info": {
   "file_extension": ".jl",
   "mimetype": "application/julia",
   "name": "julia",
   "version": "1.6.1"
  }
 },
 "nbformat": 4,
 "nbformat_minor": 5
}