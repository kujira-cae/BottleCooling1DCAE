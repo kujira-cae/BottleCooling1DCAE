{
 "cells": [
  {
   "cell_type": "code",
   "execution_count": 1,
   "source": [
    "from plotly import tools\r\n",
    "from plotly.offline import init_notebook_mode, plot, iplot\r\n",
    "import pandas as pd\r\n",
    "import OMPython\r\n",
    "import os\r\n",
    "init_notebook_mode(connected=True)"
   ],
   "outputs": [
    {
     "output_type": "display_data",
     "data": {
      "text/html": [
       "        <script type=\"text/javascript\">\n",
       "        window.PlotlyConfig = {MathJaxConfig: 'local'};\n",
       "        if (window.MathJax) {MathJax.Hub.Config({SVG: {font: \"STIX-Web\"}});}\n",
       "        if (typeof require !== 'undefined') {\n",
       "        require.undef(\"plotly\");\n",
       "        requirejs.config({\n",
       "            paths: {\n",
       "                'plotly': ['https://cdn.plot.ly/plotly-2.2.0.min']\n",
       "            }\n",
       "        });\n",
       "        require(['plotly'], function(Plotly) {\n",
       "            window._Plotly = Plotly;\n",
       "        });\n",
       "        }\n",
       "        </script>\n",
       "        "
      ]
     },
     "metadata": {}
    }
   ],
   "metadata": {}
  },
  {
   "cell_type": "code",
   "execution_count": 2,
   "source": [
    "# OpenModelicaファイルのPATHの指定\r\n",
    "model_name = \"CoolingBottle.mo\"\r\n",
    "model_path = os.path.join(os.getcwd(), model_name).replace(os.path.sep, '/')\r\n",
    "\r\n",
    "# OpenModelicaモデル読み込み\r\n",
    "model = OMPython.ModelicaSystem(\r\n",
    "    model_path,\r\n",
    "    os.path.splitext(model_name)[0],\r\n",
    "    [\"Modelica\"]\r\n",
    ")\r\n",
    "\r\n",
    "output_labels = [\r\n",
    "    \"time\",\r\n",
    "    \"T_milk\",\r\n",
    "    \"T_bottle\",\r\n",
    "]"
   ],
   "outputs": [
    {
     "output_type": "stream",
     "name": "stdout",
     "text": [
      "Notification: Automatically loaded package Modelica 4.0.0 due to uses annotation.\n",
      "Notification: Automatically loaded package Complex 4.0.0 due to uses annotation.\n",
      "Notification: Automatically loaded package ModelicaServices 4.0.0 due to uses annotation.\n",
      "\n"
     ]
    }
   ],
   "metadata": {}
  },
  {
   "cell_type": "code",
   "execution_count": 3,
   "source": [
    "# 初期値\r\n",
    "t0_milk = 273.15 + 90 # [K]\r\n",
    "t0_bottle = 273.15 + 90 # [K]\r\n",
    "t_water = 273.15 + 15 # [K]\r\n",
    "\r\n",
    "# モデルパラメータ\r\n",
    "h_interface = 67.4 # [W/m2・K * m2]\r\n",
    "g_bottle = 12.4 # [W/K]\r\n",
    "hc_milk = 336 # [J/K]\r\n",
    "hc_bottle = 75.4 # [J/K]\r\n",
    "\r\n",
    "\r\n",
    "# モデルパラメータ変更\r\n",
    "model.setParameters([\r\n",
    "    f\"T0Milk={t0_milk}\",\r\n",
    "    f\"T0Bottle={t0_bottle}\",\r\n",
    "    f\"TWater={t_water}\",\r\n",
    "    f\"HInterface={h_interface}\",\r\n",
    "    f\"GBottle={g_bottle}\",\r\n",
    "    f\"HCMilk={hc_milk}\",\r\n",
    "    f\"HCBottle={hc_bottle}\",\r\n",
    "])\r\n",
    "\r\n",
    "# 計算時間の設定\r\n",
    "time_start = 0.0 # [s]\r\n",
    "time_stop = 10.0 * 60 # [s]\r\n",
    "\r\n",
    "# 計算時の時間刻み\r\n",
    "dt = 1.0 # [s]\r\n",
    "step_size = dt\r\n",
    "model.setSimulationOptions([\r\n",
    "    f\"startTime={time_start}\",\r\n",
    "    f\"stopTime={time_stop}\",\r\n",
    "    f\"stepSize={step_size}\"\r\n",
    "])\r\n"
   ],
   "outputs": [],
   "metadata": {}
  },
  {
   "cell_type": "code",
   "execution_count": 4,
   "source": [
    "# Simlation実行\r\n",
    "model.simulate()"
   ],
   "outputs": [],
   "metadata": {}
  },
  {
   "cell_type": "code",
   "execution_count": 5,
   "source": [
    "# 結果取得\r\n",
    "res_array = model.getSolutions(output_labels)\r\n",
    "\r\n",
    "df_res = pd.DataFrame(res_array.T, columns=output_labels)\r\n",
    "\r\n",
    "# indexをtimeに設定\r\n",
    "df_res.set_index(\"time\", inplace=True)\r\n",
    "\r\n",
    "# Kを℃に変換\r\n",
    "df_res = df_res - 273.15 \r\n",
    "\r\n",
    "df_res.plot()"
   ],
   "outputs": [
    {
     "output_type": "execute_result",
     "data": {
      "text/plain": [
       "<AxesSubplot:xlabel='time'>"
      ]
     },
     "metadata": {},
     "execution_count": 5
    },
    {
     "output_type": "display_data",
     "data": {
      "text/plain": [
       "<Figure size 432x288 with 1 Axes>"
      ],
      "image/png": "[encoded data removed]"
     },
     "metadata": {
      "needs_background": "light"
     }
    }
   ],
   "metadata": {}
  },
  {
   "cell_type": "code",
   "execution_count": null,
   "source": [],
   "outputs": [],
   "metadata": {}
  }
 ],
 "metadata": {
  "kernelspec": {
   "name": "python3",
   "display_name": "Python 3.9.6 64-bit"
  },
  "language_info": {
   "codemirror_mode": {
    "name": "ipython",
    "version": 3
   },
   "file_extension": ".py",
   "mimetype": "text/x-python",
   "name": "python",
   "nbconvert_exporter": "python",
   "pygments_lexer": "ipython3",
   "version": "3.9.6"
  },
  "metadata": {
   "interpreter": {
    "hash": "c243f7b75c84068bad2032d1ac28d3ba6aa643a8b781fb798fb7b02f3c3f5aac"
   }
  },
  "interpreter": {
   "hash": "c243f7b75c84068bad2032d1ac28d3ba6aa643a8b781fb798fb7b02f3c3f5aac"
  }
 },
 "nbformat": 4,
 "nbformat_minor": 5
}